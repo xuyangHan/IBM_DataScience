{
 "cells": [
  {
   "cell_type": "markdown",
   "metadata": {},
   "source": [
    "# Applied Data Science Capstone Project Report\n"
   ]
  },
  {
   "cell_type": "markdown",
   "metadata": {},
   "source": [
    "By Xuyang Han"
   ]
  },
  {
   "cell_type": "markdown",
   "metadata": {},
   "source": [
    "## Introduction "
   ]
  },
  {
   "cell_type": "markdown",
   "metadata": {},
   "source": [
    "In December 2019 the Chinese authorities notified the world that a virus was spreading through their communities. In the following months, it spread to other countries, with cases doubling within days. This virus is the Severe Acute Respiratory Syndrome-Related Coronavirus 2 that causes the disease called Covid-19 and that everyone simply calls coronavirus. "
   ]
  },
  {
   "cell_type": "markdown",
   "metadata": {},
   "source": [
    "On March 11, 2020, the World Health Organization made an announcement. \"In the past two weeks, the number of cases of COVID-19 outside China has increased 13-fold. COVID-19 can be characterized as a pandemic.\" By March, this coronavirus had already overwhelmed China, South Korea, Iran, and Italy. And this was a warning to other countries where it was now spreading quickly. In the days and weeks ahead, we expect to see the number of cases, deaths, and affected countries climb even higher. "
   ]
  },
  {
   "cell_type": "markdown",
   "metadata": {},
   "source": [
    "Developers, data analytics, politicians, media and the public have an interest in answering the following questions about this Covid-19 Pandemic:\n",
    "\n",
    "1. How severe are different coutries hit by the corona virus?\n",
    "2. How different countries handled the situation?\n",
    "3. Any projections about what will happen to the countries which are experiencing the epidemic learning from the countries which alreay contained the virus spreading?"
   ]
  },
  {
   "cell_type": "markdown",
   "metadata": {},
   "source": [
    "## Data"
   ]
  },
  {
   "cell_type": "markdown",
   "metadata": {},
   "source": [
    "To understand and explore we will need the following Corona VirusOpen Data:"
   ]
  },
  {
   "cell_type": "markdown",
   "metadata": {},
   "source": [
    "1. https://docs.google.com/spreadsheets/d/1g_YxmDfQx7aOU2DKzNZo9b-NTk62Bju6X3z6OuCa6gw/edit#gid=1532031163 COVID-19 #CoronaVirus Data-Pack from Information is Beautiful\n",
    "2. https://ourworldindata.org/coronavirus Coronavirus Disease (COVID-19) – Statistics and Research\n",
    "3. https://www.tableau.com/covid-19-coronavirus-data-resources COVID-19 (Coronavirus) Data Resource Hub Tableau \n",
    "4. https://github.com/CSSEGISandData/COVID-19  \n",
    "5. http://weekly.chinacdc.cn/en/article/id/e53946e2-c6c4-41e9-9a9b-fea8db1a8f51 Chinese Journal of Epidemiology \n",
    "6. https://ncov2019.live/data "
   ]
  },
  {
   "cell_type": "markdown",
   "metadata": {},
   "source": [
    "Using this data will allow exploration and examination to answer the questions. The official data are reported from different countries' CDC and WHO. Some research institutions helped organized the data such as Johns Hopkins University (JHU). Those time series data can help track all countries situation and see projections. "
   ]
  },
  {
   "cell_type": "code",
   "execution_count": null,
   "metadata": {},
   "outputs": [],
   "source": []
  }
 ],
 "metadata": {
  "kernelspec": {
   "display_name": "Python 3",
   "language": "python",
   "name": "python3"
  },
  "language_info": {
   "codemirror_mode": {
    "name": "ipython",
    "version": 3
   },
   "file_extension": ".py",
   "mimetype": "text/x-python",
   "name": "python",
   "nbconvert_exporter": "python",
   "pygments_lexer": "ipython3",
   "version": "3.6.5"
  }
 },
 "nbformat": 4,
 "nbformat_minor": 2
}
